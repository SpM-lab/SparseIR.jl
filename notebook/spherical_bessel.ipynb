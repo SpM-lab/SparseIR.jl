{
 "cells": [
  {
   "cell_type": "code",
   "execution_count": null,
   "metadata": {},
   "outputs": [],
   "source": [
    "import GSL: hypergeom, sf_gamma\n",
    "\n",
    "mybesselj(α, x) = (x / 2)^α / sf_gamma(α + 1) * hypergeom([], α + 1, -x^2 / 4)\n",
    "function sphericalbesselj_1(n, x::AbstractFloat)\n",
    "    if iszero(x)\n",
    "        return iszero(n) ? one(x) : zero(x)\n",
    "    else\n",
    "        return √(π / 2x) * mybesselj(n + 0.5, x)\n",
    "    end\n",
    "end\n"
   ]
  },
  {
   "cell_type": "code",
   "execution_count": null,
   "metadata": {},
   "outputs": [],
   "source": [
    "import SpecialFunctions\n",
    "sphericalbesselj_2(ν, x) = √(π/2x)*SpecialFunctions.besselj(ν+1/2, x)"
   ]
  },
  {
   "cell_type": "code",
   "execution_count": null,
   "metadata": {},
   "outputs": [],
   "source": [
    "using PyCall\n",
    "scipy_special = pyimport(\"scipy.special\")"
   ]
  },
  {
   "cell_type": "code",
   "execution_count": null,
   "metadata": {},
   "outputs": [],
   "source": [
    "n = 100\n",
    "x = 10000.0\n",
    "# Mathematica: -0.000072814706186135590960089481513765273217282769121987832010967...\n",
    "println(sphericalbesselj_1(n, x))\n",
    "println(sphericalbesselj_2(n, x))\n",
    "println(scipy_special.spherical_jn(n, x))"
   ]
  },
  {
   "cell_type": "code",
   "execution_count": null,
   "metadata": {},
   "outputs": [],
   "source": [
    "n = 10\n",
    "x = 10000.0\n",
    "# Mathematica: 0.0000310846680541186048422278797019184103613015346166689343934711\n",
    "println(sphericalbesselj_1(n, x))\n",
    "println(sphericalbesselj_2(n, x))\n",
    "println(scipy_special.spherical_jn(n, x))"
   ]
  },
  {
   "cell_type": "code",
   "execution_count": null,
   "metadata": {},
   "outputs": [],
   "source": []
  }
 ],
 "metadata": {
  "kernelspec": {
   "display_name": "Julia 1.7.2",
   "language": "julia",
   "name": "julia-1.7"
  },
  "language_info": {
   "file_extension": ".jl",
   "mimetype": "application/julia",
   "name": "julia",
   "version": "1.7.2"
  },
  "orig_nbformat": 4
 },
 "nbformat": 4,
 "nbformat_minor": 2
}
