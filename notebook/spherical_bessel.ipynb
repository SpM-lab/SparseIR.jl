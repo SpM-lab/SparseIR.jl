{
 "cells": [
  {
   "cell_type": "code",
   "execution_count": null,
   "metadata": {},
   "outputs": [],
   "source": [
    "import GSL: hypergeom, sf_gamma\n",
    "\n",
    "mybesselj(α, x) = (x / 2)^α / sf_gamma(α + 1) * hypergeom([], α + 1, -x^2 / 4)\n",
    "function sphericalbesselj_1(n, x::AbstractFloat)\n",
    "    if iszero(x)\n",
    "        return iszero(n) ? one(x) : zero(x)\n",
    "    else\n",
    "        return √(π / 2x) * mybesselj(n + 0.5, x)\n",
    "    end\n",
    "end\n"
   ]
  },
  {
   "cell_type": "code",
   "execution_count": null,
   "metadata": {},
   "outputs": [],
   "source": [
    "import SpecialFunctions\n",
    "sphericalbesselj_2(ν, x) = √(π/2x)*SpecialFunctions.besselj(ν+1/2, x)"
   ]
  },
  {
   "cell_type": "code",
   "execution_count": null,
   "metadata": {},
   "outputs": [],
   "source": [
    "function sphericalbesselj_3(n::Integer, x::T) where T<:AbstractFloat\n",
    "    isnan(x) && return x\n",
    "    n < 0 && throw(DomainError(\"n must be non-negative\"))\n",
    "    isinf(x) && return zero(T)\n",
    "    iszero(x) && return iszero(n) ? one(T) : zero(T)\n",
    "\n",
    "    if n > 0 && n ≥ x\n",
    "        return T(SpecialFunctions.sphericalbesselj(n, x))\n",
    "    end\n",
    "\n",
    "    s0 = sin(x) / x\n",
    "    iszero(n) && return s0\n",
    "\n",
    "    s1 = (s0 - cos(x)) / x\n",
    "    isone(n) && return s1\n",
    "\n",
    "    sn = zero(T)\n",
    "    for idx in 2:n\n",
    "        sn = (2idx - 1) * s1 / x - s0\n",
    "        s0, s1 = s1, sn\n",
    "        # Overflow occurred already: terminate recurrence.\n",
    "        isnan(sn) && return sn\n",
    "    end\n",
    "    return sn\n",
    "end"
   ]
  },
  {
   "cell_type": "code",
   "execution_count": null,
   "metadata": {},
   "outputs": [],
   "source": [
    "@code_warntype sphericalbesselj_3(29, 5.6)"
   ]
  },
  {
   "cell_type": "code",
   "execution_count": null,
   "metadata": {},
   "outputs": [],
   "source": [
    "using PyCall\n",
    "scipy_special = pyimport(\"scipy.special\")"
   ]
  },
  {
   "cell_type": "code",
   "execution_count": null,
   "metadata": {},
   "outputs": [],
   "source": [
    "n = 100\n",
    "x = 10000.0\n",
    "# Mathematica: -0.000072814706186135590960089481513765273217282769121987832010967...\n",
    "println(sphericalbesselj_1(n, x))\n",
    "println(sphericalbesselj_2(n, x))\n",
    "println(sphericalbesselj_3(n, x))\n",
    "println(scipy_special.spherical_jn(n, x))"
   ]
  },
  {
   "cell_type": "code",
   "execution_count": null,
   "metadata": {},
   "outputs": [],
   "source": [
    "n = 10\n",
    "x = 10000.0\n",
    "# Mathematica: 0.0000310846680541186048422278797019184103613015346166689343934711\n",
    "println(sphericalbesselj_1(n, x))\n",
    "println(sphericalbesselj_2(n, x))\n",
    "println(sphericalbesselj_3(n, x))\n",
    "println(scipy_special.spherical_jn(n, x))"
   ]
  },
  {
   "cell_type": "code",
   "execution_count": null,
   "metadata": {},
   "outputs": [],
   "source": [
    "n = 11\n",
    "x = 2e9\n",
    "# Mathematica: 2.0205491360122228731362952404647241160170695797177388073166 × 10^-10\n",
    "println(sphericalbesselj_1(n, x))\n",
    "# println(sphericalbesselj_2(n, x))\n",
    "println(sphericalbesselj_3(n, x))\n",
    "println(scipy_special.spherical_jn(n, x))"
   ]
  },
  {
   "cell_type": "code",
   "execution_count": null,
   "metadata": {},
   "outputs": [],
   "source": [
    "n = 100\n",
    "x = 10.0\n",
    "# Mathematica: 5.83204018200587674682241088046*10^-90\n",
    "println(sphericalbesselj_1(n, x))\n",
    "println(sphericalbesselj_2(n, x))\n",
    "println(sphericalbesselj_3(n, x))\n",
    "println(scipy_special.spherical_jn(n, x))"
   ]
  },
  {
   "cell_type": "code",
   "execution_count": null,
   "metadata": {},
   "outputs": [],
   "source": []
  }
 ],
 "metadata": {
  "kernelspec": {
   "display_name": "Julia 1.7.2",
   "language": "julia",
   "name": "julia-1.7"
  },
  "language_info": {
   "file_extension": ".jl",
   "mimetype": "application/julia",
   "name": "julia",
   "version": "1.7.2"
  },
  "orig_nbformat": 4
 },
 "nbformat": 4,
 "nbformat_minor": 2
}
